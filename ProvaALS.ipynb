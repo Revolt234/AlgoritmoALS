{
  "nbformat": 4,
  "nbformat_minor": 0,
  "metadata": {
    "colab": {
      "provenance": [],
      "include_colab_link": true
    },
    "kernelspec": {
      "name": "python3",
      "display_name": "Python 3"
    },
    "language_info": {
      "name": "python"
    }
  },
  "cells": [
    {
      "cell_type": "markdown",
      "metadata": {
        "id": "view-in-github",
        "colab_type": "text"
      },
      "source": [
        "<a href=\"https://colab.research.google.com/github/Revolt234/AlgoritmoALS/blob/main/ProvaALS.ipynb\" target=\"_parent\"><img src=\"https://colab.research.google.com/assets/colab-badge.svg\" alt=\"Open In Colab\"/></a>"
      ]
    },
    {
      "cell_type": "code",
      "source": [
        "!pip install pyspark"
      ],
      "metadata": {
        "colab": {
          "base_uri": "https://localhost:8080/"
        },
        "id": "7EAdd_0NHJ3H",
        "outputId": "c74ce2fe-dfa1-4fe9-a18d-4f32808187a8"
      },
      "execution_count": 2,
      "outputs": [
        {
          "output_type": "stream",
          "name": "stdout",
          "text": [
            "Requirement already satisfied: pyspark in /usr/local/lib/python3.10/dist-packages (3.5.3)\n",
            "Requirement already satisfied: py4j==0.10.9.7 in /usr/local/lib/python3.10/dist-packages (from pyspark) (0.10.9.7)\n"
          ]
        }
      ]
    },
    {
      "cell_type": "code",
      "source": [
        "from google.colab import drive\n",
        "drive.mount('/content/drive')"
      ],
      "metadata": {
        "colab": {
          "base_uri": "https://localhost:8080/"
        },
        "id": "Oxo7VdA1N8V3",
        "outputId": "19d13968-80f3-455d-f47d-d254f0a2b3a7"
      },
      "execution_count": 1,
      "outputs": [
        {
          "output_type": "stream",
          "name": "stdout",
          "text": [
            "Mounted at /content/drive\n"
          ]
        }
      ]
    },
    {
      "cell_type": "code",
      "source": [
        "from pyspark.sql import SparkSession\n",
        "\n",
        "# Creare una sessione Spark\n",
        "spark = SparkSession.builder.appName(\"MovieLens1MExample\").getOrCreate()\n",
        "\n",
        "# Caricare il dataset \"ratings.dat\" (sostituisci con il percorso del file)\n",
        "file_path = \"/content/drive/MyDrive/ratings1mln.dat\"  # Cambia il percorso in base alla tua posizione del file\n",
        "ratings = spark.read.csv(file_path, sep=\"::\", header=False, inferSchema=True)\n",
        "\n",
        "# Rinomina le colonne per maggiore chiarezza\n",
        "ratings = ratings.withColumnRenamed(\"_c0\", \"userId\") \\\n",
        "                 .withColumnRenamed(\"_c1\", \"movieId\") \\\n",
        "                 .withColumnRenamed(\"_c2\", \"rating\") \\\n",
        "                 .withColumnRenamed(\"_c3\", \"timestamp\")\n",
        "\n",
        "# Mostra alcune righe del dataset\n",
        "ratings.show(5)\n"
      ],
      "metadata": {
        "id": "KjypoW4sHkHZ",
        "colab": {
          "base_uri": "https://localhost:8080/"
        },
        "outputId": "0086e4bc-7ca1-482b-bf6d-e879be4c59ec"
      },
      "execution_count": 3,
      "outputs": [
        {
          "output_type": "stream",
          "name": "stdout",
          "text": [
            "+------+-------+------+---------+\n",
            "|userId|movieId|rating|timestamp|\n",
            "+------+-------+------+---------+\n",
            "|     1|   1193|     5|978300760|\n",
            "|     1|    661|     3|978302109|\n",
            "|     1|    914|     3|978301968|\n",
            "|     1|   3408|     4|978300275|\n",
            "|     1|   2355|     5|978824291|\n",
            "+------+-------+------+---------+\n",
            "only showing top 5 rows\n",
            "\n"
          ]
        }
      ]
    },
    {
      "cell_type": "code",
      "source": [
        "from pyspark.ml.recommendation import ALS\n",
        "from pyspark.ml.evaluation import RegressionEvaluator\n",
        "from pyspark.sql.functions import rand\n",
        "# Dividere i dati in training e test\n",
        "(training, test) = ratings.randomSplit([0.8, 0.2])\n",
        "\n",
        "# Creare il modello ALS\n",
        "als = ALS(\n",
        "    maxIter=15,            # Numero massimo di iterazioni\n",
        "    regParam=0.1,\n",
        "    rank=50,\n",
        "    userCol=\"userId\",      # Colonna che rappresenta l'utente\n",
        "    itemCol=\"movieId\",     # Colonna che rappresenta il film\n",
        "    ratingCol=\"rating\",    # Colonna delle valutazioni\n",
        "    coldStartStrategy=\"drop\"  # Gestire i valori mancanti durante la previsione\n",
        ")\n",
        "\n",
        "# Addestrare il modello\n",
        "model = als.fit(training)\n",
        "\n",
        "# Predire le valutazioni sul set di test\n",
        "predictions = model.transform(test)\n",
        "\n",
        "# Valutare il modello con l'RMSE (Root Mean Squared Error)\n",
        "evaluator = RegressionEvaluator(\n",
        "    metricName=\"rmse\",\n",
        "    labelCol=\"rating\",\n",
        "    predictionCol=\"prediction\"\n",
        ")\n",
        "\n",
        "rmse = evaluator.evaluate(predictions)\n",
        "print(f\"RMSE del modello: {rmse}\")\n"
      ],
      "metadata": {
        "id": "jLxZIlLbNTJ7",
        "colab": {
          "base_uri": "https://localhost:8080/"
        },
        "outputId": "0d507448-36e7-4e83-cef3-f2683d6e1ee0"
      },
      "execution_count": null,
      "outputs": [
        {
          "output_type": "stream",
          "name": "stdout",
          "text": [
            "RMSE del modello: 0.8612467391265421\n"
          ]
        }
      ]
    },
    {
      "cell_type": "code",
      "source": [
        "# Mostrare 10 previsioni casuali\n",
        "print(\"10 previsioni casuali:\")\n",
        "predictions.orderBy(rand()).show(10)\n",
        "\n",
        "# Raccomandazioni per un sottoinsieme casuale di 10 utenti\n",
        "print(\"Raccomandazioni per 10 utenti casuali:\")\n",
        "# Seleziona 10 utenti casuali\n",
        "user_ids = ratings.select(\"userId\").distinct().orderBy(rand()).limit(10)\n",
        "user_recs = model.recommendForUserSubset(user_ids, 10)\n",
        "user_recs.show(truncate=False)\n",
        "\n",
        "# Raccomandazioni per un sottoinsieme casuale di 10 film\n",
        "print(\"Raccomandazioni per 10 film casuali:\")\n",
        "# Seleziona 10 film casuali\n",
        "movie_ids = ratings.select(\"movieId\").distinct().orderBy(rand()).limit(10)\n",
        "movie_recs = model.recommendForItemSubset(movie_ids, 10)\n",
        "movie_recs.show(truncate=False)\n"
      ],
      "metadata": {
        "id": "DqcarDbvNYf1",
        "colab": {
          "base_uri": "https://localhost:8080/"
        },
        "outputId": "b2e5bb21-a9e0-49bf-8516-ff56f925e3db"
      },
      "execution_count": null,
      "outputs": [
        {
          "output_type": "stream",
          "name": "stdout",
          "text": [
            "10 previsioni casuali:\n",
            "+------+-------+------+---------+----------+\n",
            "|userId|movieId|rating|timestamp|prediction|\n",
            "+------+-------+------+---------+----------+\n",
            "|  5971|   2396|     4|956954621| 3.9827843|\n",
            "|   655|    417|     3|975704769|  2.859436|\n",
            "|  4362|   2605|     2|965186336| 1.7482988|\n",
            "|   423|   2692|     4|976281986|   2.46422|\n",
            "|  3615|   1080|     5|966603734| 3.6770835|\n",
            "|   151|   2657|     4|993119766| 3.3837156|\n",
            "|   647|   1499|     2|975714036| 2.0937228|\n",
            "|  4169|   1135|     3|971581056| 3.3493357|\n",
            "|  1216|   2722|     2|974850112| 2.0061872|\n",
            "|  5443|    426|     5|959980506| 3.3658001|\n",
            "+------+-------+------+---------+----------+\n",
            "only showing top 10 rows\n",
            "\n",
            "Raccomandazioni per 10 utenti casuali:\n",
            "+------+-----------------------------------------------------------------------------------------------------------------------------------------------------------------------------------------+\n",
            "|userId|recommendations                                                                                                                                                                          |\n",
            "+------+-----------------------------------------------------------------------------------------------------------------------------------------------------------------------------------------+\n",
            "|2680  |[{572, 4.4214516}, {318, 4.0690875}, {2905, 4.0264416}, {1234, 3.9998822}, {50, 3.9946415}, {1198, 3.980674}, {858, 3.9781966}, {1262, 3.962445}, {527, 3.943675}, {1207, 3.9326706}]    |\n",
            "|4421  |[{572, 4.633505}, {2905, 4.526782}, {2019, 4.520008}, {787, 4.51052}, {2999, 4.4871793}, {750, 4.474039}, {858, 4.4651175}, {527, 4.458986}, {904, 4.4473605}, {318, 4.4430156}]         |\n",
            "|2532  |[{572, 4.918683}, {53, 4.614071}, {3338, 4.543177}, {326, 4.5230336}, {787, 4.4629617}, {50, 4.461194}, {2999, 4.4598413}, {745, 4.4573627}, {2905, 4.440492}, {1148, 4.4210005}]        |\n",
            "|2042  |[{1743, 4.1497045}, {2494, 4.0608463}, {3338, 4.044658}, {1198, 4.021007}, {2905, 4.0080466}, {771, 4.004428}, {858, 3.9903364}, {1420, 3.9841464}, {1178, 3.9708529}, {1200, 3.9551063}]|\n",
            "|2202  |[{1780, 4.417895}, {3079, 4.3725986}, {745, 4.3701725}, {572, 4.3282948}, {2324, 4.251465}, {3851, 4.2509813}, {2624, 4.2259264}, {2810, 4.2153}, {50, 4.1755915}, {1148, 4.1738977}]    |\n",
            "|2402  |[{572, 4.6650248}, {2905, 4.2208276}, {858, 4.1895022}, {1198, 4.189131}, {318, 4.1679354}, {598, 4.1445203}, {260, 4.1119876}, {50, 4.1102943}, {2028, 4.1083207}, {527, 4.0983877}]    |\n",
            "|3202  |[{572, 4.775588}, {3092, 4.1212673}, {3916, 4.0335736}, {2762, 3.9459665}, {1198, 3.94187}, {318, 3.9041748}, {1036, 3.8967147}, {37, 3.872705}, {3114, 3.8674524}, {356, 3.85245}]      |\n",
            "|5292  |[{1002, 5.2422514}, {1149, 4.9546556}, {2931, 4.7767396}, {854, 4.729976}, {1237, 4.697316}, {3338, 4.690985}, {2731, 4.6834135}, {3569, 4.668597}, {3160, 4.6552224}, {1123, 4.6433244}]|\n",
            "|366   |[{572, 5.156665}, {53, 4.7510514}, {527, 4.7331586}, {745, 4.726027}, {3338, 4.7145243}, {912, 4.708143}, {2609, 4.7076597}, {2019, 4.70269}, {2999, 4.6937075}, {2905, 4.691716}]       |\n",
            "|5659  |[{572, 4.913957}, {2762, 4.280687}, {3625, 4.2474213}, {2571, 4.2317076}, {2562, 4.198297}, {37, 4.1182623}, {2825, 4.0987086}, {3916, 4.0917287}, {2197, 4.0854535}, {318, 4.0769496}]  |\n",
            "+------+-----------------------------------------------------------------------------------------------------------------------------------------------------------------------------------------+\n",
            "\n",
            "Raccomandazioni per 10 film casuali:\n",
            "+-------+---------------------------------------------------------------------------------------------------------------------------------------------------------------------------------------------+\n",
            "|movieId|recommendations                                                                                                                                                                              |\n",
            "+-------+---------------------------------------------------------------------------------------------------------------------------------------------------------------------------------------------+\n",
            "|1860   |[{446, 4.715545}, {1847, 4.672931}, {1670, 4.6635437}, {5589, 4.61923}, {5871, 4.6126184}, {4168, 4.5767617}, {1371, 4.573257}, {3210, 4.560541}, {2554, 4.555212}, {4943, 4.550793}]        |\n",
            "|3651   |[{293, 0.973499}, {2647, 0.9267592}, {446, 0.92098033}, {332, 0.9175789}, {1670, 0.9171959}, {2626, 0.9109132}, {4168, 0.9077459}, {3572, 0.9063683}, {4943, 0.9041595}, {2560, 0.90409005}] |\n",
            "|93     |[{3902, 3.7522454}, {4801, 3.6056244}, {283, 3.5900688}, {2155, 3.546286}, {372, 3.4606223}, {2867, 3.4455354}, {101, 3.3930886}, {3834, 3.3908799}, {3032, 3.331656}, {1673, 3.3039284}]    |\n",
            "|2543   |[{5589, 4.5403104}, {784, 4.489459}, {1371, 4.4848785}, {1670, 4.4770975}, {3167, 4.4590497}, {597, 4.458541}, {1363, 4.448111}, {953, 4.4377236}, {53, 4.4202476}, {3136, 4.4134855}]       |\n",
            "|3574   |[{5250, 1.5765206}, {283, 1.5403599}, {4801, 1.5017031}, {2155, 1.4985183}, {2339, 1.4732121}, {6027, 1.4557791}, {2694, 1.4485172}, {1302, 1.4384989}, {1856, 1.4336193}, {1171, 1.4256476}]|\n",
            "|3805   |[{3902, 4.579744}, {1221, 4.245876}, {101, 4.2366014}, {283, 4.1725016}, {1856, 4.149692}, {372, 4.1447997}, {4801, 4.0993824}, {567, 4.0968246}, {1410, 4.048672}, {4333, 4.0441694}]       |\n",
            "|3335   |[{2867, 3.5748422}, {206, 3.5210717}, {1856, 3.456892}, {121, 3.4427216}, {1907, 3.4063196}, {4333, 3.3849666}, {4216, 3.3591428}, {2694, 3.328821}, {3662, 3.3277009}, {5593, 3.317958}]    |\n",
            "|936    |[{2339, 5.0092726}, {2755, 4.9156213}, {1986, 4.9120183}, {902, 4.868991}, {5255, 4.8675504}, {5768, 4.8247895}, {4484, 4.8211055}, {447, 4.8129063}, {1371, 4.80689}, {446, 4.8068523}]     |\n",
            "|2627   |[{2673, 4.8083024}, {4970, 4.741748}, {2244, 4.6688924}, {5945, 4.661156}, {3846, 4.660712}, {4836, 4.621955}, {4943, 4.617953}, {5758, 4.6002975}, {4649, 4.5914683}, {5542, 4.568113}]     |\n",
            "|1758   |[{2339, 4.812162}, {283, 4.782268}, {3902, 4.693673}, {4594, 4.62565}, {2560, 4.6013217}, {4816, 4.600808}, {4086, 4.5937233}, {101, 4.5833855}, {3365, 4.581905}, {2497, 4.5610843}]        |\n",
            "+-------+---------------------------------------------------------------------------------------------------------------------------------------------------------------------------------------------+\n",
            "\n"
          ]
        }
      ]
    }
  ]
}